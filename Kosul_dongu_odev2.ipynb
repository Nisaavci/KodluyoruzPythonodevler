{
  "cells": [
    {
      "cell_type": "markdown",
      "id": "409f0f4a",
      "metadata": {
        "id": "409f0f4a"
      },
      "source": [
        "**Ödev-1:** Kullanıcıdan maaş bilgisini istenir ve bu bilgiye göre maaşından ne kadar vergi kesileceğini hesaplanır. Kullanıcının geliri;\n",
        "\n",
        "1. 10000 ve altındaysa maaşından %5 kesinti olur.\n",
        "2. 25000 ve altındaysa maaşından %10 kesinti olur.\n",
        "3. 45000 ve altındaysa maaşından %25 kesinti olur.\n",
        "4. Diğer koşullarda %30 kesinti olur.\n",
        "\n",
        "Bu durumlara göre kullanıcının yeni maaşı yazdırılır."
      ]
    },
    {
      "cell_type": "code",
      "execution_count": 2,
      "id": "5246e510",
      "metadata": {
        "id": "5246e510",
        "colab": {
          "base_uri": "https://localhost:8080/"
        },
        "outputId": "9747e831-298a-47e0-efe4-9d20a0d9e08c"
      },
      "outputs": [
        {
          "output_type": "stream",
          "name": "stdout",
          "text": [
            "maaşınızı giriniz:1000\n",
            "vergi kesintisi hesplanıyor...\n",
            "yeni maaşınız  950.0\n",
            "vergi kesintisi %5 dir\n"
          ]
        }
      ],
      "source": [
        "maas=int(input('maaşınızı giriniz:'))\n",
        "print('vergi kesintisi hesplanıyor...')\n",
        "if maas<10000:\n",
        "  print(  'yeni maaşınız ' ,maas*0.95)\n",
        "  print('vergi kesintisi %5 dir')\n",
        "elif maas<25000:\n",
        "  print ( 'yeni maaşınız ',maas*0.90)\n",
        "  print('vergi kesintisi %10 dur')\n",
        "elif maas<45000:\n",
        "  print(  'yeni maaşınız ', maas*0.75)\n",
        "  print( 'vergi eksintisi %25 dir')\n",
        "else :\n",
        "  print( 'yeni maaşınız ' ,maas*0.70)\n",
        "  print('vergi kesintisi %30 dur')\n"
      ]
    },
    {
      "cell_type": "markdown",
      "id": "f5fe8798",
      "metadata": {
        "id": "f5fe8798"
      },
      "source": [
        "**Ödev-2:** Kullanıcıdan kullanıcı adı ve şifre oluşturmasını istenir. Şifrenin uzunluğu altı haneye ulaşmışsa hesabınız oluşturuldu mesajı alınır, altı haneden azsa altı haneli şifre oluşturması gerektiğinin mesajı alınır. *(Sadece koşul kullanılması yeterli.)*"
      ]
    },
    {
      "cell_type": "code",
      "execution_count": 9,
      "id": "6acffe57",
      "metadata": {
        "id": "6acffe57",
        "colab": {
          "base_uri": "https://localhost:8080/"
        },
        "outputId": "2df92c27-a229-4382-d14a-bf4e66edbc3b"
      },
      "outputs": [
        {
          "output_type": "stream",
          "name": "stdout",
          "text": [
            "hoş geldiniz!  lütfen kullanıcı adı ve şifre oluşturunuz:\n",
            "kullanıcı adi:nisa\n",
            "şifre:123456\n",
            "şifreniz oluşturuldu\n",
            "hesabımız oluşturuldu\n",
            "kullanıcı adı ve şifreniz  nisa 123456\n"
          ]
        }
      ],
      "source": [
        "print('hoş geldiniz!  lütfen kullanıcı adı ve şifre oluşturunuz:')\n",
        "kullanici_adi=input('kullanıcı adi:')\n",
        "sifre=input('şifre:')\n",
        "if len(sifre)!=6:\n",
        "  print('lütfen 6 haneli bir şifre oluşturunuz')\n",
        "else:\n",
        "  print('şifreniz oluşturuldu')\n",
        "  print('hesabımız oluşturuldu')\n",
        "  print('kullanıcı adı ve şifreniz: ',kullanici_adi , sifre)\n"
      ]
    },
    {
      "cell_type": "markdown",
      "id": "aaccf11a",
      "metadata": {
        "id": "aaccf11a"
      },
      "source": [
        "**Ödev-3:** Bir önceki örnek geliştirilir.\n",
        "\n",
        "1. Kullanıcı girdiği şifre 5 ve 10 hane arasında olmak zorunda.\n",
        "2. Eğer bu koşula uyuyorsa \"Hesabınız oluşturuldu.\" mesajı alır.\n",
        "3. Koşulu sağlamıyorsa \"Lütfen girdiniz şifre 5 haneden az 10 haneden fazla olmasın!\" uyarısı alır.\n",
        "4. Bunu oluştururken kullanıcı istediğimiz şartlarda şifre oluşturana kadar sormaya devam eder"
      ]
    },
    {
      "cell_type": "code",
      "source": [
        "print('hoş geldiniz!  lütfen kullanıcı adı ve şifre oluşturunuz:')\n",
        "kullanici_adi=input('kullanıcı adi:')\n",
        "sifre=input('şifre:')\n",
        "if  5<= len(sifre)<10:\n",
        "  print('şifreniz oluşturuldu')\n",
        "  print('hesabımız oluşturuldu')\n",
        "  print('kullanıcı adı ve şifreniz: ',kullanici_adi , sifre)\n",
        "else:\n",
        "  print('Lütfen girdiniz şifre 5 haneden az 10 haneden fazla olmasın!')\n",
        ""
      ],
      "metadata": {
        "colab": {
          "base_uri": "https://localhost:8080/"
        },
        "id": "3_3pLio1FRft",
        "outputId": "230dd861-bd13-4b6f-c87f-404da5d23504"
      },
      "id": "3_3pLio1FRft",
      "execution_count": 19,
      "outputs": [
        {
          "output_type": "stream",
          "name": "stdout",
          "text": [
            "hoş geldiniz!  lütfen kullanıcı adı ve şifre oluşturunuz:\n",
            "kullanıcı adi:nisa\n",
            "şifre:123\n",
            "Lütfen girdiniz şifre 5 haneden az 10 haneden fazla olmasın!\n"
          ]
        }
      ]
    },
    {
      "cell_type": "markdown",
      "id": "8ba81863",
      "metadata": {
        "id": "8ba81863"
      },
      "source": [
        "**Ödev-4:** Kullanıcıdan isim ve şifre isteyeceğiz ve şifre girişi için üç hak verilir.\n",
        "\n",
        "1. Eğer önceden tanımlı şifre ile kullanıcıdan gelen şifre aynıysa \"Giriş yapıldı.\" yazar.\n",
        "2. Şifre girişi yanlışsa \"Yanlış şifre girildi!\" uyarısı verilsin ve üç yanlış denemede program biter.\n",
        "3. Tercihe göre kalan hak bilgisi verilir."
      ]
    },
    {
      "cell_type": "code",
      "execution_count": 26,
      "id": "8f45ea0c",
      "metadata": {
        "id": "8f45ea0c",
        "colab": {
          "base_uri": "https://localhost:8080/"
        },
        "outputId": "40e25503-c334-49a9-87b0-36b47143628c"
      },
      "outputs": [
        {
          "output_type": "stream",
          "name": "stdout",
          "text": [
            "hoş geldiniz!  lütfen kullanıcı adı ve şifre oluşturunuz:\n",
            "kullanıcı adi:nisa\n",
            "şifre:123456\n",
            "Giriş yapıldı.\n"
          ]
        }
      ],
      "source": [
        "print('hoş geldiniz!  lütfen kullanıcı adı ve şifre oluşturunuz:')\n",
        "\n",
        "hak=3\n",
        "while hak>0:\n",
        "  kullanici_adi=input('kullanıcı adi:')\n",
        "  sifre=input('şifre:')\n",
        "  if  sifre=='123456':\n",
        "     print('Giriş yapıldı.')\n",
        "     break\n",
        "  else:\n",
        "        hak -= 1\n",
        "        print('Yanlış şifre girildi!')\n",
        "        if hak > 0:\n",
        "            print('Kalan deneme hakkınız:' ,hak)\n",
        "        else:\n",
        "            print('3 kez yanlış şifre girildi. Program sonlandırıldı.')\n",
        "\n",
        "\n"
      ]
    }
  ],
  "metadata": {
    "kernelspec": {
      "display_name": "Python 3 (ipykernel)",
      "language": "python",
      "name": "python3"
    },
    "language_info": {
      "codemirror_mode": {
        "name": "ipython",
        "version": 3
      },
      "file_extension": ".py",
      "mimetype": "text/x-python",
      "name": "python",
      "nbconvert_exporter": "python",
      "pygments_lexer": "ipython3",
      "version": "3.9.12"
    },
    "colab": {
      "provenance": []
    }
  },
  "nbformat": 4,
  "nbformat_minor": 5
}