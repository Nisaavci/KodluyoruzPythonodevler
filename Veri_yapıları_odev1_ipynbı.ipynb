{
  "cells": [
    {
      "cell_type": "markdown",
      "id": "032d81b2",
      "metadata": {
        "id": "032d81b2"
      },
      "source": [
        "# 1\n",
        "x = 3 ----> floata çevirelim. Çevirdikten sonra veri tipinide yazdıralım.\n",
        "\n",
        "y = 4.5 -----> integere çevirelim. Çevirdikten sonra veri tipinide yazdıralım.\n",
        "\n",
        "z = \"8\" -----> integera çevirelim. Çevirdikten sonra veri tipinide yazdıralım.\n",
        "\n",
        "a = \"12\" -----> floata çevirelim. Çevirdikten sonra veri tipinide yazdıralım.\n",
        "\n",
        "b = \"46.8\" ------> integera çevirelim. Çevirdikten sonra veri tipinide yazdıralım."
      ]
    },
    {
      "cell_type": "code",
      "source": [],
      "metadata": {
        "id": "xg2JTz8t-7Tt"
      },
      "id": "xg2JTz8t-7Tt",
      "execution_count": null,
      "outputs": []
    },
    {
      "cell_type": "code",
      "execution_count": null,
      "id": "f1b735c0",
      "metadata": {
        "id": "f1b735c0",
        "colab": {
          "base_uri": "https://localhost:8080/"
        },
        "outputId": "53ff5051-8cff-4795-8c35-7589179abb8f"
      },
      "outputs": [
        {
          "output_type": "execute_result",
          "data": {
            "text/plain": [
              "float"
            ]
          },
          "metadata": {},
          "execution_count": 4
        }
      ],
      "source": [
        "x=3\n",
        "type(float(x))\n"
      ]
    },
    {
      "cell_type": "code",
      "source": [
        "y = 4.5\n",
        "type(int(y))\n"
      ],
      "metadata": {
        "colab": {
          "base_uri": "https://localhost:8080/"
        },
        "id": "SqzuWPHg-8ht",
        "outputId": "a623f460-e6a1-4f1c-de5e-d58d6c32e5a9"
      },
      "id": "SqzuWPHg-8ht",
      "execution_count": null,
      "outputs": [
        {
          "output_type": "execute_result",
          "data": {
            "text/plain": [
              "int"
            ]
          },
          "metadata": {},
          "execution_count": 5
        }
      ]
    },
    {
      "cell_type": "code",
      "source": [
        "z = \"8\"\n",
        "type(int(z))\n"
      ],
      "metadata": {
        "id": "un4P5g6v_Qr1"
      },
      "id": "un4P5g6v_Qr1",
      "execution_count": null,
      "outputs": []
    },
    {
      "cell_type": "code",
      "source": [
        "a = \"12\"\n",
        "type(float(a))"
      ],
      "metadata": {
        "colab": {
          "base_uri": "https://localhost:8080/"
        },
        "id": "stpwtfjq_RYX",
        "outputId": "a7c37e85-8928-49e9-a1ad-1b6cad95346e"
      },
      "id": "stpwtfjq_RYX",
      "execution_count": null,
      "outputs": [
        {
          "output_type": "execute_result",
          "data": {
            "text/plain": [
              "float"
            ]
          },
          "metadata": {},
          "execution_count": 7
        }
      ]
    },
    {
      "cell_type": "code",
      "source": [
        "b = \"46.8\"\n",
        "type(int(float(b)))"
      ],
      "metadata": {
        "colab": {
          "base_uri": "https://localhost:8080/"
        },
        "id": "62cx8QQQ_RlI",
        "outputId": "153cb4dc-632f-4729-9bfa-7978b3894068"
      },
      "id": "62cx8QQQ_RlI",
      "execution_count": null,
      "outputs": [
        {
          "output_type": "execute_result",
          "data": {
            "text/plain": [
              "int"
            ]
          },
          "metadata": {},
          "execution_count": 6
        }
      ]
    },
    {
      "cell_type": "markdown",
      "id": "95509718",
      "metadata": {
        "id": "95509718"
      },
      "source": [
        "# 2\n",
        "İsimlerden oluşan üç değişkene yaş değerleri atanır. Belirlenen üç değişken birbiriyle karşılaştırma operatörleri ile karşılaştırılır. Bu karşılaştırmalara mantıksal operatörler de eklenir."
      ]
    },
    {
      "cell_type": "code",
      "execution_count": null,
      "id": "50f77b4f",
      "metadata": {
        "id": "50f77b4f",
        "colab": {
          "base_uri": "https://localhost:8080/"
        },
        "outputId": "a903776d-3a8f-4302-bf08-d99d993d3144"
      },
      "outputs": [
        {
          "output_type": "stream",
          "name": "stdout",
          "text": [
            "Ali Ayşe'den genç mi? True\n",
            "Mehmet en genç mi? True\n",
            "Ayşe en yaşlı mı? True\n",
            "Ali ve Mehmet aynı yaşta mı? False\n",
            "Ali en azından biri kadar yaşlı mı? True\n"
          ]
        }
      ],
      "source": [
        "\n",
        "ali_yas = 25\n",
        "ayse_yas = 30\n",
        "mehmet_yas = 22\n",
        "print(\"Ali Ayşe'den genç mi?\", ali_yas < ayse_yas)\n",
        "print(\"Mehmet en genç mi?\", mehmet_yas < ali_yas and mehmet_yas < ayse_yas)\n",
        "print(\"Ayşe en yaşlı mı?\", ayse_yas > ali_yas and ayse_yas > mehmet_yas)\n",
        "print(\"Ali ve Mehmet aynı yaşta mı?\", ali_yas == mehmet_yas)\n",
        "print(\"Ali en azından biri kadar yaşlı mı?\", ali_yas >= ayse_yas or ali_yas >= mehmet_yas)\n",
        "\n",
        "\n"
      ]
    },
    {
      "cell_type": "markdown",
      "id": "a1a0eb92",
      "metadata": {
        "id": "a1a0eb92"
      },
      "source": [
        "# 3\n",
        "Kullanıcıdan iki değer girmesini istenir. Girilen değerlerin toplama, çıkarma, çarpma, bölme sonuçlarını yazdırılır."
      ]
    },
    {
      "cell_type": "code",
      "execution_count": null,
      "id": "c361e45a",
      "metadata": {
        "id": "c361e45a",
        "colab": {
          "base_uri": "https://localhost:8080/"
        },
        "outputId": "9a03894e-048a-4749-fe05-788926b5b4c2"
      },
      "outputs": [
        {
          "output_type": "stream",
          "name": "stdout",
          "text": [
            "Hoş geldiniz. lütfen işlem yapmak istediğiniz değerleri giriniz\n",
            "birinci sayıyı girinz: 12\n",
            "ikinci sayıyı giriniz: 5\n",
            "sayıların toplamı= 17\n",
            "sayiların farkı= 7\n",
            "sayıların çarpımı= 60\n",
            "sayıların bölümü= 2.4\n"
          ]
        }
      ],
      "source": [
        "print('Hoş geldiniz. lütfen işlem yapmak istediğiniz değerleri giriniz')\n",
        "sayi1=int(input('birinci sayıyı girinz: '))\n",
        "sayi2=int(input( 'ikinci sayıyı giriniz: '))\n",
        "print('sayıların toplamı=',sayi1+sayi2)\n",
        "print('sayiların farkı=',sayi1-sayi2)\n",
        "print('sayıların çarpımı=',sayi1*sayi2)\n",
        "print('sayıların bölümü=',sayi1/sayi2)"
      ]
    },
    {
      "cell_type": "markdown",
      "id": "060b0bea",
      "metadata": {
        "id": "060b0bea"
      },
      "source": [
        "# 4\n",
        "Kullanıcıdan isim, yaş, şehir ve meslek bilgilerini istenir ve cevaplarını yazdırılır."
      ]
    },
    {
      "cell_type": "code",
      "execution_count": null,
      "id": "6f5dea59",
      "metadata": {
        "id": "6f5dea59",
        "colab": {
          "base_uri": "https://localhost:8080/"
        },
        "outputId": "e72bbad7-7feb-4007-99cc-89f473b9c302"
      },
      "outputs": [
        {
          "output_type": "stream",
          "name": "stdout",
          "text": [
            "lütfen adınızı giriniz\n",
            "nisa\n",
            "lütfen yaşınızı giriniz:\n",
            "21\n",
            "!lütfen yaadığınız şehri giriniz:\n",
            "e\n",
            "lütfen yaptığınnız mesleği giriniz\n",
            "ö\n",
            "******bilgileriniz******\n",
            "nisa\n",
            "21\n",
            "e\n",
            "ö\n"
          ]
        }
      ],
      "source": [
        "print('lütfen adınızı giriniz')\n",
        "ad=input()\n",
        "print('lütfen yaşınızı giriniz:')\n",
        "yas=input()\n",
        "print('!lütfen yaadığınız şehri giriniz:')\n",
        "sehir=input()\n",
        "print('lütfen yaptığınnız mesleği giriniz')\n",
        "meslek=input()\n",
        "\n",
        "print('******bilgileriniz******')\n",
        "print(ad)\n",
        "print(yas)\n",
        "print(sehir)\n",
        "print(meslek)"
      ]
    },
    {
      "cell_type": "markdown",
      "id": "55e1a34e",
      "metadata": {
        "id": "55e1a34e"
      },
      "source": [
        "# 5\n",
        "\"Hi-Kod Veri Bilimi Atölyesi\" ifadesini bir değişkene tanımlanır.\n",
        "\n",
        "\n",
        " 1. İfadedeki her bir kelimeyi (\"Hi-Kod\", \"Veri\", \"Bilimi\", \"Atölyesi\") değişken içinden seçilir.\n",
        " 2. İfadeyi hepsini büyük harf olacak hale çevrilir. (\"HI-KOD VERİ BİLİMİ ATÖLYESİ\")\n",
        " 3. İfadeyi hepsini büyük harf olacak hale çevrilir.(\"hi-kod veri bilimi atölyesi\")\n",
        "\n",
        "\"0123456789\" ifadesindeki yalnızca çift sayıları ve yalnızca tek sayıları seçilir. (\"02468\", \"13579\")"
      ]
    },
    {
      "cell_type": "code",
      "execution_count": null,
      "id": "0fc1bc40",
      "metadata": {
        "id": "0fc1bc40",
        "colab": {
          "base_uri": "https://localhost:8080/"
        },
        "outputId": "2346d679-3e25-4d83-9811-22925005df8d"
      },
      "outputs": [
        {
          "output_type": "execute_result",
          "data": {
            "text/plain": [
              "['Hi-Kod', 'Veri', 'Bilimi', 'Atölyesi']"
            ]
          },
          "metadata": {},
          "execution_count": 18
        }
      ],
      "source": [
        "atolye=\"Hi-Kod Veri Bilimi Atölyesi\"\n",
        "atolye.split()\n"
      ]
    },
    {
      "cell_type": "code",
      "source": [
        "atolye.upper()"
      ],
      "metadata": {
        "colab": {
          "base_uri": "https://localhost:8080/",
          "height": 35
        },
        "id": "CGI6a7U6Efrd",
        "outputId": "ffcbb084-3079-49ba-fc6a-0f697dc99176"
      },
      "id": "CGI6a7U6Efrd",
      "execution_count": null,
      "outputs": [
        {
          "output_type": "execute_result",
          "data": {
            "text/plain": [
              "'HI-KOD VERI BILIMI ATÖLYESI'"
            ],
            "application/vnd.google.colaboratory.intrinsic+json": {
              "type": "string"
            }
          },
          "metadata": {},
          "execution_count": 19
        }
      ]
    },
    {
      "cell_type": "code",
      "source": [
        "atolye.lower()"
      ],
      "metadata": {
        "colab": {
          "base_uri": "https://localhost:8080/",
          "height": 35
        },
        "id": "Ah33XNfOEf73",
        "outputId": "018c4841-60aa-49e0-bdfd-b31de22147d0"
      },
      "id": "Ah33XNfOEf73",
      "execution_count": null,
      "outputs": [
        {
          "output_type": "execute_result",
          "data": {
            "text/plain": [
              "'hi-kod veri bilimi atölyesi'"
            ],
            "application/vnd.google.colaboratory.intrinsic+json": {
              "type": "string"
            }
          },
          "metadata": {},
          "execution_count": 20
        }
      ]
    },
    {
      "cell_type": "code",
      "source": [
        "numara=\"0123456789\"\n",
        "numara[::2]\n",
        "\n"
      ],
      "metadata": {
        "colab": {
          "base_uri": "https://localhost:8080/",
          "height": 35
        },
        "id": "vvLaUApwEtXZ",
        "outputId": "52d0919d-d5e3-4dab-e800-21fdd00223aa"
      },
      "id": "vvLaUApwEtXZ",
      "execution_count": null,
      "outputs": [
        {
          "output_type": "execute_result",
          "data": {
            "text/plain": [
              "'02468'"
            ],
            "application/vnd.google.colaboratory.intrinsic+json": {
              "type": "string"
            }
          },
          "metadata": {},
          "execution_count": 27
        }
      ]
    },
    {
      "cell_type": "code",
      "source": [
        "numara=\"0123456789\"\n",
        "numara[1::2]\n"
      ],
      "metadata": {
        "colab": {
          "base_uri": "https://localhost:8080/",
          "height": 35
        },
        "id": "hRN5sW-fFCsM",
        "outputId": "7701f060-3760-4e02-f611-8f9b8fb7ba1c"
      },
      "id": "hRN5sW-fFCsM",
      "execution_count": null,
      "outputs": [
        {
          "output_type": "execute_result",
          "data": {
            "text/plain": [
              "'13579'"
            ],
            "application/vnd.google.colaboratory.intrinsic+json": {
              "type": "string"
            }
          },
          "metadata": {},
          "execution_count": 28
        }
      ]
    }
  ],
  "metadata": {
    "kernelspec": {
      "display_name": "Python 3 (ipykernel)",
      "language": "python",
      "name": "python3"
    },
    "language_info": {
      "codemirror_mode": {
        "name": "ipython",
        "version": 3
      },
      "file_extension": ".py",
      "mimetype": "text/x-python",
      "name": "python",
      "nbconvert_exporter": "python",
      "pygments_lexer": "ipython3",
      "version": "3.9.12"
    },
    "colab": {
      "provenance": []
    }
  },
  "nbformat": 4,
  "nbformat_minor": 5
}